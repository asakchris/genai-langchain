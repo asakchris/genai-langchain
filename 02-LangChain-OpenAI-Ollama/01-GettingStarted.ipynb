{
 "cells": [
  {
   "cell_type": "markdown",
   "metadata": {},
   "source": [
    "# Getting started with LangChain & OpenAI\n",
    "- Setup LangChain, LangSmith & LangServe\n",
    "- Use basic components of LangChain: prompt templates, models & output parsers\n",
    "- Build simple application with LangChain\n",
    "- Trace application with LangSmith\n",
    "- Serve application with LangServe"
   ]
  },
  {
   "cell_type": "code",
   "execution_count": 3,
   "metadata": {},
   "outputs": [
    {
     "data": {
      "text/plain": [
       "True"
      ]
     },
     "execution_count": 3,
     "metadata": {},
     "output_type": "execute_result"
    }
   ],
   "source": [
    "import os\n",
    "from dotenv import load_dotenv\n",
    "\n",
    "load_dotenv()"
   ]
  },
  {
   "cell_type": "code",
   "execution_count": 4,
   "metadata": {},
   "outputs": [
    {
     "name": "stdout",
     "output_type": "stream",
     "text": [
      "client=<openai.resources.chat.completions.Completions object at 0x129c84710> async_client=<openai.resources.chat.completions.AsyncCompletions object at 0x12a140490> root_client=<openai.OpenAI object at 0x1062ebc90> root_async_client=<openai.AsyncOpenAI object at 0x12a1389d0> model_name='gpt-4o-mini' model_kwargs={} openai_api_key=SecretStr('**********')\n"
     ]
    }
   ],
   "source": [
    "from langchain_openai import ChatOpenAI\n",
    "llm = ChatOpenAI(model=\"gpt-4o-mini\")\n",
    "print(llm)"
   ]
  },
  {
   "cell_type": "code",
   "execution_count": 5,
   "metadata": {},
   "outputs": [],
   "source": [
    "result = llm.invoke(\"What is generative AI?\")"
   ]
  },
  {
   "cell_type": "code",
   "execution_count": 6,
   "metadata": {},
   "outputs": [
    {
     "data": {
      "text/plain": [
       "AIMessage(content='Generative AI refers to a subset of artificial intelligence that is designed to create new content, data, or information by learning patterns from existing data. Unlike traditional AI, which primarily focuses on analyzing or interpreting data, generative AI can produce novel outputs such as text, images, music, and more.\\n\\nKey features of generative AI include:\\n\\n1. **Learning from Data**: Generative AI models are trained on large datasets, allowing them to understand the underlying patterns and structures within the data.\\n\\n2. **Content Creation**: These models can generate new examples that resemble the training data. For instance, they can write stories, compose music, create realistic images, or produce any type of content that is similar to what they have been trained on.\\n\\n3. **Techniques Used**: Common techniques in generative AI include Generative Adversarial Networks (GANs), Variational Autoencoders (VAEs), and transformer-based models like GPT (Generative Pre-trained Transformer).\\n\\n4. **Applications**: Generative AI has numerous applications, including art and design, gaming, virtual reality, drug discovery, natural language processing, and more.\\n\\n5. **Ethical Considerations**: The rise of generative AI also raises ethical concerns, such as the potential for misuse in creating deepfakes, misinformation, and the implications of copyright and ownership regarding generated content.\\n\\nOverall, generative AI represents a significant advancement in the field of artificial intelligence, enabling machines to create and innovate in ways that were previously thought to be exclusive to human creativity.', additional_kwargs={'refusal': None}, response_metadata={'token_usage': {'completion_tokens': 310, 'prompt_tokens': 13, 'total_tokens': 323, 'completion_tokens_details': {'reasoning_tokens': 0}}, 'model_name': 'gpt-4o-mini-2024-07-18', 'system_fingerprint': 'fp_f85bea6784', 'finish_reason': 'stop', 'logprobs': None}, id='run-d9fa21cb-e7d8-43ec-b5d4-d817661373b3-0', usage_metadata={'input_tokens': 13, 'output_tokens': 310, 'total_tokens': 323})"
      ]
     },
     "execution_count": 6,
     "metadata": {},
     "output_type": "execute_result"
    }
   ],
   "source": [
    "result"
   ]
  },
  {
   "cell_type": "markdown",
   "metadata": {},
   "source": [
    "## Chatprompt Template"
   ]
  },
  {
   "cell_type": "code",
   "execution_count": 7,
   "metadata": {},
   "outputs": [
    {
     "data": {
      "text/plain": [
       "ChatPromptTemplate(input_variables=['input'], input_types={}, partial_variables={}, messages=[SystemMessagePromptTemplate(prompt=PromptTemplate(input_variables=[], input_types={}, partial_variables={}, template='You are an expert AI Engineer. Provide me answers based on the questions'), additional_kwargs={}), HumanMessagePromptTemplate(prompt=PromptTemplate(input_variables=['input'], input_types={}, partial_variables={}, template='{input}'), additional_kwargs={})])"
      ]
     },
     "execution_count": 7,
     "metadata": {},
     "output_type": "execute_result"
    }
   ],
   "source": [
    "from langchain_core.prompts import ChatPromptTemplate\n",
    "\n",
    "prompt =ChatPromptTemplate.from_messages([\n",
    "    (\"system\", \"You are an expert AI Engineer. Provide me answers based on the questions\"),\n",
    "    (\"user\", \"{input}\")\n",
    "])\n",
    "prompt"
   ]
  },
  {
   "cell_type": "code",
   "execution_count": 8,
   "metadata": {},
   "outputs": [
    {
     "name": "stdout",
     "output_type": "stream",
     "text": [
      "content='Langsmith is a platform designed to help developers and organizations build, manage, and optimize applications that leverage large language models (LLMs). It provides tools and features for integrating LLMs into workflows, enabling users to create more effective and efficient AI-driven solutions.\\n\\nKey aspects of Langsmith may include:\\n\\n1. **Model Management**: Langsmith often includes capabilities for tracking and managing different language models, allowing users to select the most appropriate model for their specific use cases.\\n\\n2. **Prompt Engineering**: The platform may offer tools for designing and optimizing prompts to improve the performance of LLMs in generating relevant and accurate outputs.\\n\\n3. **Integration**: Langsmith is likely designed to facilitate the integration of LLMs with existing applications, enabling seamless interaction between AI models and other software components.\\n\\n4. **Performance Monitoring**: It might provide analytics and monitoring features to assess the performance of LLMs in real-time, helping users understand how well their models are functioning.\\n\\n5. **Collaboration**: Langsmith could offer collaboration features that allow teams to work together on projects involving LLMs, sharing insights and best practices.\\n\\n6. **Customization**: The platform may support customization of models to better fit specific industry needs or organizational requirements.\\n\\nFor the most accurate and up-to-date information about Langsmith, including specific features and offerings, it’s recommended to visit their official website or consult recent resources.' additional_kwargs={'refusal': None} response_metadata={'token_usage': {'completion_tokens': 283, 'prompt_tokens': 33, 'total_tokens': 316, 'completion_tokens_details': {'reasoning_tokens': 0}}, 'model_name': 'gpt-4o-mini-2024-07-18', 'system_fingerprint': 'fp_f85bea6784', 'finish_reason': 'stop', 'logprobs': None} id='run-8a8b751c-35c1-4402-a620-9c6a82c237f6-0' usage_metadata={'input_tokens': 33, 'output_tokens': 283, 'total_tokens': 316}\n"
     ]
    }
   ],
   "source": [
    "chain = prompt | llm\n",
    "\n",
    "response = chain.invoke({\"input\": \"Can you tell me about Langsmith?\"})\n",
    "print(response)"
   ]
  },
  {
   "cell_type": "code",
   "execution_count": 9,
   "metadata": {},
   "outputs": [
    {
     "name": "stdout",
     "output_type": "stream",
     "text": [
      "As of my last knowledge update in October 2023, Langsmith is a company that focuses on providing tools and solutions for developers and organizations working with language models and natural language processing (NLP). It aims to streamline the development and deployment of language-based applications by offering features such as model training, fine-tuning, and integration with existing systems.\n",
      "\n",
      "Langsmith emphasizes collaboration and efficiency, providing a platform where teams can work together to create and refine language models. It may offer APIs, SDKs, and other resources to help developers leverage NLP technology in their applications.\n",
      "\n",
      "For the most current and detailed information about Langsmith, including any new developments or offerings, I recommend visiting their official website or checking recent news articles related to the company.\n"
     ]
    }
   ],
   "source": [
    "from langchain_core.output_parsers import StrOutputParser\n",
    "\n",
    "output_parser = StrOutputParser()\n",
    "chain = prompt | llm | output_parser\n",
    "\n",
    "response = chain.invoke({\"input\": \"Can you tell me about Langsmith?\"})\n",
    "print(response)"
   ]
  }
 ],
 "metadata": {
  "kernelspec": {
   "display_name": ".venv",
   "language": "python",
   "name": "python3"
  },
  "language_info": {
   "codemirror_mode": {
    "name": "ipython",
    "version": 3
   },
   "file_extension": ".py",
   "mimetype": "text/x-python",
   "name": "python",
   "nbconvert_exporter": "python",
   "pygments_lexer": "ipython3",
   "version": "3.11.10"
  }
 },
 "nbformat": 4,
 "nbformat_minor": 2
}
