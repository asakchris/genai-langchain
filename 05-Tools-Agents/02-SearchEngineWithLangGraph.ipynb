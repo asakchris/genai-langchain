{
 "cells": [
  {
   "cell_type": "markdown",
   "metadata": {},
   "source": [
    "# Quick Start\n",
    "In this comprehensive quick start, we will build a support chatbot in LangGraph that can:\n",
    "- Answer common questions by searching the web\n",
    "- Maintain conversation state across calls\n",
    "- Route complex queries to a human for review\n",
    "- Use custom state to control its behavior\n",
    "- Rewind and explore alternative conversation paths"
   ]
  },
  {
   "cell_type": "markdown",
   "metadata": {},
   "source": [
    "## Setup\n",
    "Load API keys."
   ]
  },
  {
   "cell_type": "code",
   "execution_count": 13,
   "metadata": {},
   "outputs": [
    {
     "data": {
      "text/plain": [
       "True"
      ]
     },
     "execution_count": 13,
     "metadata": {},
     "output_type": "execute_result"
    }
   ],
   "source": [
    "from dotenv import load_dotenv\n",
    "\n",
    "load_dotenv()"
   ]
  },
  {
   "cell_type": "markdown",
   "metadata": {},
   "source": [
    "## Part 1: Build a Basic Chatbot\n",
    "We'll first create a simple chatbot using LangGraph. This chatbot will respond directly to user messages. Though simple, it will illustrate the core concepts of building with LangGraph. By the end of this section, you will have a built rudimentary chatbot.\n",
    "\n",
    "Start by creating a StateGraph. A StateGraph object defines the structure of our chatbot as a \"state machine\". We'll add nodes to represent the llm and functions our chatbot can call and edges to specify how the bot should transition between these functions."
   ]
  },
  {
   "cell_type": "code",
   "execution_count": 14,
   "metadata": {},
   "outputs": [],
   "source": [
    "from typing import Annotated\n",
    "\n",
    "from typing_extensions import TypedDict\n",
    "\n",
    "from langgraph.graph import StateGraph, START, END\n",
    "from langgraph.graph.message import add_messages\n",
    "\n",
    "\n",
    "class State(TypedDict):\n",
    "    # Messages have the type \"list\". The `add_messages` function\n",
    "    # in the annotation defines how this state key should be updated\n",
    "    # (in this case, it appends messages to the list, rather than overwriting them)\n",
    "    messages: Annotated[list, add_messages]\n",
    "\n",
    "\n",
    "graph_builder = StateGraph(State)"
   ]
  },
  {
   "cell_type": "markdown",
   "metadata": {},
   "source": [
    "So now our graph knows two things:\n",
    "1. Every `node` we define will receive the current `State` as input and return a value that updates that state.\n",
    "2. `messages` will be appended to the current list, rather than directly overwritten. This is communicated via the prebuilt `add_messages` function in the `Annotated` syntax.\n",
    "Next, add a \"`chatbot`\" node. Nodes represent units of work. They are typically regular python functions."
   ]
  },
  {
   "cell_type": "code",
   "execution_count": 15,
   "metadata": {},
   "outputs": [
    {
     "data": {
      "text/plain": [
       "<langgraph.graph.state.StateGraph at 0x10fbe2210>"
      ]
     },
     "execution_count": 15,
     "metadata": {},
     "output_type": "execute_result"
    }
   ],
   "source": [
    "#from langchain_anthropic import ChatAnthropic\n",
    "from langchain_groq import ChatGroq\n",
    "\n",
    "#llm = ChatAnthropic(model=\"claude-3-5-sonnet-20240620\")\n",
    "llm = ChatGroq(model=\"gemma2-9b-it\")\n",
    "\n",
    "\n",
    "def chatbot(state: State):\n",
    "    return {\"messages\": [llm.invoke(state[\"messages\"])]}\n",
    "\n",
    "\n",
    "# The first argument is the unique node name\n",
    "# The second argument is the function or object that will be called whenever the node is used.\n",
    "graph_builder.add_node(\"chatbot\", chatbot)"
   ]
  },
  {
   "cell_type": "markdown",
   "metadata": {},
   "source": [
    "Notice how the `chatbot` node function takes the current `State` as input and returns a dictionary containing an updated `messages` list under the key \"messages\". This is the basic pattern for all LangGraph node functions.\n",
    "\n",
    "The `add_messages` function in our `State` will append the llm's response messages to whatever messages are already in the state.\n",
    "\n",
    "Next, add an `entry` point. This tells our graph **where to start its work** each time we run it."
   ]
  },
  {
   "cell_type": "code",
   "execution_count": 16,
   "metadata": {},
   "outputs": [
    {
     "data": {
      "text/plain": [
       "<langgraph.graph.state.StateGraph at 0x10fbe2210>"
      ]
     },
     "execution_count": 16,
     "metadata": {},
     "output_type": "execute_result"
    }
   ],
   "source": [
    "graph_builder.add_edge(START, \"chatbot\")"
   ]
  },
  {
   "cell_type": "markdown",
   "metadata": {},
   "source": [
    "Similarly, set a `finish` point. This instructs the graph **\"any time this node is run, you can exit.\"**"
   ]
  },
  {
   "cell_type": "code",
   "execution_count": 17,
   "metadata": {},
   "outputs": [
    {
     "data": {
      "text/plain": [
       "<langgraph.graph.state.StateGraph at 0x10fbe2210>"
      ]
     },
     "execution_count": 17,
     "metadata": {},
     "output_type": "execute_result"
    }
   ],
   "source": [
    "graph_builder.add_edge(\"chatbot\", END)"
   ]
  },
  {
   "cell_type": "markdown",
   "metadata": {},
   "source": [
    "Finally, we'll want to be able to run our graph. To do so, call \"`compile()`\" on the graph builder. This creates a \"`CompiledGraph`\" we can use invoke on our state."
   ]
  },
  {
   "cell_type": "code",
   "execution_count": 18,
   "metadata": {},
   "outputs": [],
   "source": [
    "graph = graph_builder.compile()"
   ]
  },
  {
   "cell_type": "markdown",
   "metadata": {},
   "source": [
    "You can visualize the graph using the `get_graph` method and one of the \"draw\" methods, like `draw_ascii` or `draw_png`."
   ]
  },
  {
   "cell_type": "code",
   "execution_count": 19,
   "metadata": {},
   "outputs": [
    {
     "data": {
      "image/jpeg": "[encoded data removed]",
      "text/plain": [
       "<IPython.core.display.Image object>"
      ]
     },
     "metadata": {},
     "output_type": "display_data"
    }
   ],
   "source": [
    "from IPython.display import Image, display\n",
    "\n",
    "try:\n",
    "    display(Image(graph.get_graph().draw_mermaid_png()))\n",
    "except Exception:\n",
    "    pass"
   ]
  },
  {
   "cell_type": "markdown",
   "metadata": {},
   "source": [
    "Now let's run the chatbot!\n",
    "\n",
    "**Tip:** You can exit the chat loop at any time by typing \"quit\", \"exit\", or \"q\"."
   ]
  },
  {
   "cell_type": "code",
   "execution_count": 20,
   "metadata": {},
   "outputs": [
    {
     "name": "stdout",
     "output_type": "stream",
     "text": [
      "Assistant: Precalculus and calculus are both branches of mathematics, but they build upon each other in a significant way. Here's a breakdown of the key differences:\n",
      "\n",
      "**Precalculus:**\n",
      "\n",
      "* **Foundation:** Precalculus serves as the bridge between algebra and calculus. It strengthens your understanding of algebraic concepts and introduces foundational ideas needed for calculus.\n",
      "* **Topics:**\n",
      "    * **Algebra:**  Reviews and expands upon algebra topics like functions, equations, inequalities, polynomials, rational expressions, and systems of equations.\n",
      "    * **Trigonometry:**  Covers trigonometric functions (sine, cosine, tangent), their graphs, identities, and applications.\n",
      "    * **Analytic Geometry:** Explores the relationship between algebra and geometry, including conic sections (circles, ellipses, parabolas, hyperbolas).\n",
      "    * **Sequences and Series:** Introduces the concepts of infinite sequences and series.\n",
      "* **Goal:** To prepare you for the rigor and concepts of calculus by solidifying your algebraic skills and introducing key mathematical tools.\n",
      "\n",
      "**Calculus:**\n",
      "\n",
      "* **Core Concepts:** Calculus delves into the study of change and motion. It introduces two fundamental branches:\n",
      "    * **Differential Calculus:** Focuses on rates of change and slopes of curves, using the concept of the derivative.\n",
      "    * **Integral Calculus:** Deals with accumulation, areas under curves, and volumes, using the concept of the integral.\n",
      "* **Applications:** Calculus has wide-ranging applications in physics, engineering, economics, and other fields. It's used to model real-world phenomena involving motion, growth, optimization, and more.\n",
      "\n",
      "**In Essence:**\n",
      "\n",
      "Think of precalculus as building the foundation of a house, while calculus is constructing the house itself. You can't build a strong house without a solid foundation, and calculus relies heavily on the concepts and skills developed in precalculus.\n",
      "\n",
      "\n",
      "Let me know if you have any other questions!\n",
      "\n",
      "Goodbye!\n"
     ]
    }
   ],
   "source": [
    "def stream_graph_updates(user_input: str):\n",
    "    #print(f\"user_input: {user_input}\")\n",
    "    events = graph.stream({\"messages\": [(\"user\", user_input)]})\n",
    "    for event in events:\n",
    "        for value in event.values():\n",
    "            #print(f\"value: {value}\")\n",
    "            print(\"Assistant:\", value[\"messages\"][-1].content)\n",
    "\n",
    "\n",
    "while True:\n",
    "    try:\n",
    "        user_input = input(\"User: \")\n",
    "        if user_input.lower() in [\"quit\", \"exit\", \"q\"]:\n",
    "            print(\"Goodbye!\")\n",
    "            break\n",
    "\n",
    "        stream_graph_updates(user_input)\n",
    "    except:\n",
    "        # fallback if input() is not available\n",
    "        user_input = \"What do you know about LangGraph?\"\n",
    "        print(\"User: \" + user_input)\n",
    "        stream_graph_updates(user_input)\n",
    "        break"
   ]
  },
  {
   "cell_type": "markdown",
   "metadata": {},
   "source": [
    "## Part 2: Enhancing the Chatbot with Tools\n",
    "To handle queries our chatbot can't answer \"from memory\", we'll integrate a web search tool. Our bot can use this tool to find relevant information and provide better responses."
   ]
  },
  {
   "cell_type": "code",
   "execution_count": 21,
   "metadata": {},
   "outputs": [
    {
     "data": {
      "text/plain": [
       "[{'url': 'https://www.mancity.com/news/mens/manchester-city-v-fulham-match-report-63863731',\n",
       "  'content': 'Mateo Kovacic scored twice and Jeremy Doku grabbed a vital third as City edged a hard-earned 3-2 win over Fulham. The visitors struck first after the Blues had missed several chances, with Andreas Pereira scoring for the Cottagers. But Kovacic levelled shortly after and scored his second two minutes ...'},\n",
       " {'url': 'https://www.nytimes.com/athletic/5818999/2024/10/05/manchester-city-3-fulham-2-result-kovacic/',\n",
       "  'content': 'Mateo Kovacic scored twice for Manchester City as they came from behind to beat Fulham 3-2 at the Etihad Stadium.. The Croatian struck either side of half-time after Andreas Pereira had given the ...'}]"
      ]
     },
     "execution_count": 21,
     "metadata": {},
     "output_type": "execute_result"
    }
   ],
   "source": [
    "from langchain_community.tools.tavily_search import TavilySearchResults\n",
    "\n",
    "tool = TavilySearchResults(max_results=2)\n",
    "tools = [tool]\n",
    "\n",
    "tool.invoke(\"Who won the match between Man City & Fulham today?\")"
   ]
  },
  {
   "cell_type": "markdown",
   "metadata": {},
   "source": [
    "The results are page summaries our chat bot can use to answer questions.\n",
    "\n",
    "Next, we'll start defining our graph. The following is all the **same as in Part 1**, except we have added `bind_tools` on our LLM. This lets the LLM know the correct JSON format to use if it wants to use our search engine."
   ]
  },
  {
   "cell_type": "code",
   "execution_count": 32,
   "metadata": {},
   "outputs": [
    {
     "data": {
      "text/plain": [
       "<langgraph.graph.state.StateGraph at 0x12e67c150>"
      ]
     },
     "execution_count": 32,
     "metadata": {},
     "output_type": "execute_result"
    }
   ],
   "source": [
    "from typing import Annotated\n",
    "\n",
    "from langchain_groq import ChatGroq\n",
    "from typing_extensions import TypedDict\n",
    "\n",
    "from langgraph.graph import StateGraph, START, END\n",
    "from langgraph.graph.message import add_messages\n",
    "\n",
    "\n",
    "class State(TypedDict):\n",
    "    messages: Annotated[list, add_messages]\n",
    "\n",
    "\n",
    "graph_builder = StateGraph(State)\n",
    "\n",
    "\n",
    "llm = ChatGroq(model_name=\"gemma2-9b-it\")\n",
    "# Modification: tell the LLM which tools it can call\n",
    "llm_with_tools = llm.bind_tools(tools)\n",
    "\n",
    "\n",
    "def chatbot(state: State):\n",
    "    return {\"messages\": [llm_with_tools.invoke(state[\"messages\"])]}\n",
    "\n",
    "\n",
    "graph_builder.add_node(\"chatbot\", chatbot)"
   ]
  },
  {
   "cell_type": "markdown",
   "metadata": {},
   "source": [
    "Next we need to create a function to actually run the tools if they are called. We'll do this by adding the tools to a new node.\n",
    "\n",
    "Below, we implement a `BasicToolNode` that checks the most recent message in the state and calls tools if the message contains `tool_calls`. It relies on the LLM's `tool_calling` support, which is available in Anthropic, OpenAI, Google Gemini, and a number of other LLM providers.\n",
    "\n",
    "We will later replace this with LangGraph's prebuilt [ToolNode](https://langchain-ai.github.io/langgraph/reference/prebuilt/#toolnode) to speed things up, but building it ourselves first is instructive."
   ]
  },
  {
   "cell_type": "code",
   "execution_count": 33,
   "metadata": {},
   "outputs": [
    {
     "data": {
      "text/plain": [
       "<langgraph.graph.state.StateGraph at 0x12e67c150>"
      ]
     },
     "execution_count": 33,
     "metadata": {},
     "output_type": "execute_result"
    }
   ],
   "source": [
    "import json\n",
    "\n",
    "from langchain_core.messages import ToolMessage\n",
    "\n",
    "\n",
    "class BasicToolNode:\n",
    "    \"\"\"A node that runs the tools requested in the last AIMessage.\"\"\"\n",
    "\n",
    "    def __init__(self, tools: list) -> None:\n",
    "        self.tools_by_name = {tool.name: tool for tool in tools}\n",
    "\n",
    "    def __call__(self, inputs: dict):\n",
    "        if messages := inputs.get(\"messages\", []):\n",
    "            message = messages[-1]\n",
    "        else:\n",
    "            raise ValueError(\"No message found in input\")\n",
    "        outputs = []\n",
    "        for tool_call in message.tool_calls:\n",
    "            tool_result = self.tools_by_name[tool_call[\"name\"]].invoke(\n",
    "                tool_call[\"args\"]\n",
    "            )\n",
    "            outputs.append(\n",
    "                ToolMessage(\n",
    "                    content=json.dumps(tool_result),\n",
    "                    name=tool_call[\"name\"],\n",
    "                    tool_call_id=tool_call[\"id\"],\n",
    "                )\n",
    "            )\n",
    "        return {\"messages\": outputs}\n",
    "\n",
    "\n",
    "tool_node = BasicToolNode(tools=[tool])\n",
    "graph_builder.add_node(\"tools\", tool_node)"
   ]
  },
  {
   "cell_type": "markdown",
   "metadata": {},
   "source": [
    "With the tool node added, we can define the `conditional_edges`.\n",
    "\n",
    "Recall that **edges** route the control flow from one node to the next. **Conditional edges** usually contain \"if\" statements to route to different nodes depending on the current graph state. These functions receive the current graph `state` and return a string or list of strings indicating which node(s) to call next.\n",
    "\n",
    "Below, call define a router function called `route_tools`, that checks for tool_calls in the chatbot's output. Provide this function to the graph by calling `add_conditional_edges`, which tells the graph that whenever the `chatbot` node completes to check this function to see where to go next.\n",
    "\n",
    "The condition will route to `tools` if tool calls are present and `END` if not.\n",
    "\n",
    "Later, we will replace this with the prebuilt [tools_condition](https://langchain-ai.github.io/langgraph/reference/prebuilt/#tools_condition) to be more concise, but implementing it ourselves first makes things more clear."
   ]
  },
  {
   "cell_type": "code",
   "execution_count": 34,
   "metadata": {},
   "outputs": [],
   "source": [
    "from typing import Literal\n",
    "\n",
    "\n",
    "def route_tools(\n",
    "    state: State,\n",
    "):\n",
    "    \"\"\"\n",
    "    Use in the conditional_edge to route to the ToolNode if the last message\n",
    "    has tool calls. Otherwise, route to the end.\n",
    "    \"\"\"\n",
    "    if isinstance(state, list):\n",
    "        ai_message = state[-1]\n",
    "    elif messages := state.get(\"messages\", []):\n",
    "        ai_message = messages[-1]\n",
    "    else:\n",
    "        raise ValueError(f\"No messages found in input state to tool_edge: {state}\")\n",
    "    if hasattr(ai_message, \"tool_calls\") and len(ai_message.tool_calls) > 0:\n",
    "        return \"tools\"\n",
    "    return END\n",
    "\n",
    "\n",
    "# The `tools_condition` function returns \"tools\" if the chatbot asks to use a tool, and \"END\" if\n",
    "# it is fine directly responding. This conditional routing defines the main agent loop.\n",
    "graph_builder.add_conditional_edges(\n",
    "    \"chatbot\",\n",
    "    route_tools,\n",
    "    # The following dictionary lets you tell the graph to interpret the condition's outputs as a specific node\n",
    "    # It defaults to the identity function, but if you\n",
    "    # want to use a node named something else apart from \"tools\",\n",
    "    # You can update the value of the dictionary to something else\n",
    "    # e.g., \"tools\": \"my_tools\"\n",
    "    {\"tools\": \"tools\", END: END},\n",
    ")\n",
    "# Any time a tool is called, we return to the chatbot to decide the next step\n",
    "graph_builder.add_edge(\"tools\", \"chatbot\")\n",
    "graph_builder.add_edge(START, \"chatbot\")\n",
    "graph = graph_builder.compile()"
   ]
  },
  {
   "cell_type": "markdown",
   "metadata": {},
   "source": [
    "**Notice** that conditional edges start from a single node. This tells the graph \"any time the '`chatbot`' node runs, either go to 'tools' if it calls a tool, or end the loop if it responds directly.\n",
    "\n",
    "Like the prebuilt `tools_condition`, our function returns the `END` string if no tool calls are made. When the graph transitions to `END`, it has no more tasks to complete and ceases execution. Because the condition can return `END`, we don't need to explicitly set a `finish_point` this time. Our graph already has a way to finish!\n",
    "\n",
    "Let's visualize the graph we've built."
   ]
  },
  {
   "cell_type": "code",
   "execution_count": 35,
   "metadata": {},
   "outputs": [
    {
     "data": {
      "image/jpeg": "[encoded data removed]",
      "text/plain": [
       "<IPython.core.display.Image object>"
      ]
     },
     "metadata": {},
     "output_type": "display_data"
    }
   ],
   "source": [
    "from IPython.display import Image, display\n",
    "\n",
    "try:\n",
    "    display(Image(graph.get_graph().draw_mermaid_png()))\n",
    "except Exception:\n",
    "    pass"
   ]
  },
  {
   "cell_type": "markdown",
   "metadata": {},
   "source": [
    "Now we can ask the bot questions outside its training data."
   ]
  },
  {
   "cell_type": "code",
   "execution_count": 36,
   "metadata": {},
   "outputs": [
    {
     "name": "stdout",
     "output_type": "stream",
     "text": [
      "Assistant: \n",
      "Assistant: [{\"url\": \"https://www.skysports.com/football/live-blog/12309/13227650/arsenal-vs-southampton-live-premier-league-match-updates-news-and-score\", \"content\": \"Follow our coverage of Arsenal vs Southampton in the Premier League, with kick-off at 3pm on Saturday. ... Premier League match updates, news and score. Trending. Liverpool dominant at Crystal ...\"}, {\"url\": \"https://www.bbc.co.uk/sport/football/premier-league/scores-fixtures/2024-10?filter=fixtures\", \"content\": \"Premier League scores, results and fixtures on BBC Sport, including live football scores\"}]\n",
      "Assistant: \n",
      "Assistant: [{\"url\": \"https://www.msn.com/en-us/sports/soccer/arsenal-vs-southampton-live-premier-league-result-match-stream-latest-updates-today/ar-AA1rK4oq\", \"content\": \"LIVE - Updated at 16:30. Arsenal vs Southampton LIVE! The Gunners welcome Saints to the Emirates Stadium this afternoon looking to make amends for past sins. The last time Southampton were in ...\"}, {\"url\": \"https://www.skysports.com/football/live-blog/12309/13227650/arsenal-vs-southampton-live-premier-league-match-updates-news-and-score\", \"content\": \"Follow our coverage of Arsenal vs Southampton in the Premier League, with kick-off at 3pm on Saturday. ... news and score. Trending. Liverpool dominant at Crystal Palace LIVE! Arsenal vs ...\"}]\n",
      "Assistant: Arsenal are playing Southampton today. \n",
      "\n",
      "Goodbye!\n"
     ]
    }
   ],
   "source": [
    "while True:\n",
    "    try:\n",
    "        user_input = input(\"User: \")\n",
    "        if user_input.lower() in [\"quit\", \"exit\", \"q\"]:\n",
    "            print(\"Goodbye!\")\n",
    "            break\n",
    "\n",
    "        stream_graph_updates(user_input)\n",
    "    except:\n",
    "        # fallback if input() is not available\n",
    "        user_input = \"What do you know about LangGraph?\"\n",
    "        print(\"User: \" + user_input)\n",
    "        stream_graph_updates(user_input)\n",
    "        break"
   ]
  },
  {
   "cell_type": "markdown",
   "metadata": {},
   "source": [
    "## Part 3: Adding Memory to the Chatbot\n",
    "Our chatbot can now use tools to answer user questions, but it doesn't remember the context of previous interactions. This limits its ability to have coherent, multi-turn conversations.\n",
    "\n",
    "LangGraph solves this problem through **persistent checkpointing**. If you provide a `checkpointer` when compiling the graph and a `thread_id` when calling your graph, LangGraph automatically saves the state after each step. When you invoke the graph again using the same `thread_id`, the graph loads its saved state, allowing the chatbot to pick up where it left off.\n",
    "\n",
    "We will see later that **checkpointing** is much more powerful than simple chat memory - it lets you save and resume complex state at any time for error recovery, human-in-the-loop workflows, time travel interactions, and more. But before we get too ahead of ourselves, let's add checkpointing to enable multi-turn conversations.\n",
    "\n",
    "To get started, create a `MemorySaver` checkpointer."
   ]
  },
  {
   "cell_type": "code",
   "execution_count": 37,
   "metadata": {},
   "outputs": [],
   "source": [
    "from langgraph.checkpoint.memory import MemorySaver\n",
    "\n",
    "memory = MemorySaver()"
   ]
  },
  {
   "cell_type": "markdown",
   "metadata": {},
   "source": [
    "**Notice** we're using an in-memory checkpointer. This is convenient for our tutorial (it saves it all in-memory). In a production application, you would likely change this to use `SqliteSaver` or `PostgresSaver` and connect to your own DB.\n",
    "\n",
    "Next define the graph. Now that you've already built your own `BasicToolNode`, we'll replace it with LangGraph's prebuilt `ToolNode` and `tools_condition`, since these do some nice things like parallel API execution. Apart from that, the following is all copied from Part 2."
   ]
  },
  {
   "cell_type": "code",
   "execution_count": 38,
   "metadata": {},
   "outputs": [],
   "source": [
    "from typing import Annotated\n",
    "\n",
    "from langchain_groq import ChatGroq\n",
    "from langchain_community.tools.tavily_search import TavilySearchResults\n",
    "from langchain_core.messages import BaseMessage\n",
    "from typing_extensions import TypedDict\n",
    "\n",
    "from langgraph.graph import StateGraph, START, END\n",
    "from langgraph.graph.message import add_messages\n",
    "from langgraph.prebuilt import ToolNode, tools_condition\n",
    "\n",
    "\n",
    "class State(TypedDict):\n",
    "    messages: Annotated[list, add_messages]\n",
    "\n",
    "\n",
    "graph_builder = StateGraph(State)\n",
    "\n",
    "\n",
    "tool = TavilySearchResults(max_results=2)\n",
    "tools = [tool]\n",
    "llm = ChatGroq(model_name=\"gemma2-9b-it\")\n",
    "llm_with_tools = llm.bind_tools(tools)\n",
    "\n",
    "\n",
    "def chatbot(state: State):\n",
    "    return {\"messages\": [llm_with_tools.invoke(state[\"messages\"])]}\n",
    "\n",
    "\n",
    "graph_builder.add_node(\"chatbot\", chatbot)\n",
    "\n",
    "tool_node = ToolNode(tools=[tool])\n",
    "graph_builder.add_node(\"tools\", tool_node)\n",
    "\n",
    "graph_builder.add_conditional_edges(\n",
    "    \"chatbot\",\n",
    "    tools_condition\n",
    ")\n",
    "\n",
    "# Any time a tool is called, we return to the chatbot to decide the next step\n",
    "graph_builder.add_edge(\"tools\", \"chatbot\")\n",
    "graph_builder.add_edge(START, \"chatbot\")\n",
    "\n",
    "# Finally, compile the graph with the provided checkpointer.\n",
    "graph = graph_builder.compile(checkpointer=memory)"
   ]
  },
  {
   "cell_type": "markdown",
   "metadata": {},
   "source": [
    "Notice the connectivity of the graph hasn't changed since Part 2. All we are doing is checkpointing the `State` as the graph works through each node."
   ]
  },
  {
   "cell_type": "code",
   "execution_count": 39,
   "metadata": {},
   "outputs": [
    {
     "data": {
      "image/jpeg": "[encoded data removed]",
      "text/plain": [
       "<IPython.core.display.Image object>"
      ]
     },
     "metadata": {},
     "output_type": "display_data"
    }
   ],
   "source": [
    "from IPython.display import Image, display\n",
    "\n",
    "try:\n",
    "    display(Image(graph.get_graph().draw_mermaid_png()))\n",
    "except Exception:\n",
    "    pass"
   ]
  },
  {
   "cell_type": "markdown",
   "metadata": {},
   "source": [
    "Now you can interact with your bot! First, pick a thread to use as the key for this conversation."
   ]
  },
  {
   "cell_type": "code",
   "execution_count": 40,
   "metadata": {},
   "outputs": [],
   "source": [
    "config = {\"configurable\": {\"thread_id\": \"1\"}}"
   ]
  },
  {
   "cell_type": "markdown",
   "metadata": {},
   "source": [
    "Next, call your chat bot."
   ]
  },
  {
   "cell_type": "code",
   "execution_count": 41,
   "metadata": {},
   "outputs": [
    {
     "name": "stdout",
     "output_type": "stream",
     "text": [
      "================================\u001b[1m Human Message \u001b[0m=================================\n",
      "\n",
      "Hi there! My name is Will.\n",
      "==================================\u001b[1m Ai Message \u001b[0m==================================\n",
      "Tool Calls:\n",
      "  tavily_search_results_json (call_jper)\n",
      " Call ID: call_jper\n",
      "  Args:\n",
      "    query: What is Will's name?\n",
      "=================================\u001b[1m Tool Message \u001b[0m=================================\n",
      "Name: tavily_search_results_json\n",
      "\n",
      "[{\"url\": \"https://en.wikipedia.org/wiki/Will_(given_name)\", \"content\": \"Will [wil] or Wil is a given name, often a short form (hypocorism) of William, Wilson, Wilfred, Wilbur, Wilhelmina, Wilma, Willard or Willeke.\"}, {\"url\": \"https://www.thebump.com/b/wills-baby-name\", \"content\": \"Sep 27, 2024 · It has the hefty meaning of \\\"helmet of protection\\\" or \\\"resolute protector.\\\" With Wills as their name, baby will exude a calm and comforting ...\"}]\n",
      "==================================\u001b[1m Ai Message \u001b[0m==================================\n",
      "Tool Calls:\n",
      "  tavily_search_results_json (call_3911)\n",
      " Call ID: call_3911\n",
      "  Args:\n",
      "    query: What is a hypocorism?\n",
      "=================================\u001b[1m Tool Message \u001b[0m=================================\n",
      "Name: tavily_search_results_json\n",
      "\n",
      "[{\"url\": \"https://www.languagehumanities.org/what-is-a-hypocorism.htm\", \"content\": \"A hypocorism is an altered, usually shortened version of a word or name that is usually used in informal or familiar situations. Nicknames, pet names, and terms of endearment, such as those used among friends, family members, or lovers, are often hypocorisms. The most conspicuous hypocoristic forms are derived from people's given names, but ...\"}, {\"url\": \"https://en.wikipedia.org/wiki/Hypocorism\", \"content\": \"A hypocorism (/ haɪˈpɒkərɪzəm / hy-POK-ər-iz-əm or / ˌhaɪpəˈkɒrɪzəm / HY-pə-KORR-iz-əm; from Ancient Greek ὑποκόρισμα hypokórisma; sometimes also hypocoristic), or pet name, is a name used to show affection for a person. [1][2] It may be a diminutive form of a person's name, such as Izzy for Isabel or Bob for Robert ...\"}]\n",
      "==================================\u001b[1m Ai Message \u001b[0m==================================\n",
      "\n",
      "Will is a short form of the name William.\n"
     ]
    }
   ],
   "source": [
    "user_input = \"Hi there! My name is Will.\"\n",
    "\n",
    "# The config is the **second positional argument** to stream() or invoke()!\n",
    "events = graph.stream(\n",
    "    {\"messages\": [(\"user\", user_input)]}, config, stream_mode=\"values\"\n",
    ")\n",
    "for event in events:\n",
    "    event[\"messages\"][-1].pretty_print()"
   ]
  },
  {
   "cell_type": "markdown",
   "metadata": {},
   "source": [
    "**Note:** The config was provided as the **second positional argument** when calling our graph. It importantly is not nested within the graph inputs (`{'messages': []}`).\n",
    "\n",
    "Let's ask a followup: see if it remembers your name."
   ]
  },
  {
   "cell_type": "code",
   "execution_count": 42,
   "metadata": {},
   "outputs": [
    {
     "name": "stdout",
     "output_type": "stream",
     "text": [
      "================================\u001b[1m Human Message \u001b[0m=================================\n",
      "\n",
      "Remember my name?\n",
      "==================================\u001b[1m Ai Message \u001b[0m==================================\n",
      "\n",
      "Yes, your name is Will.\n"
     ]
    }
   ],
   "source": [
    "user_input = \"Remember my name?\"\n",
    "\n",
    "# The config is the **second positional argument** to stream() or invoke()!\n",
    "events = graph.stream(\n",
    "    {\"messages\": [(\"user\", user_input)]}, config, stream_mode=\"values\"\n",
    ")\n",
    "for event in events:\n",
    "    event[\"messages\"][-1].pretty_print()"
   ]
  },
  {
   "cell_type": "markdown",
   "metadata": {},
   "source": [
    "**Notice** that we aren't using an external list for memory: it's all handled by the checkpointer!\n",
    "\n",
    "Don't believe me? Try this using a different config."
   ]
  },
  {
   "cell_type": "code",
   "execution_count": 43,
   "metadata": {},
   "outputs": [
    {
     "name": "stdout",
     "output_type": "stream",
     "text": [
      "================================\u001b[1m Human Message \u001b[0m=================================\n",
      "\n",
      "Remember my name?\n",
      "==================================\u001b[1m Ai Message \u001b[0m==================================\n",
      "Tool Calls:\n",
      "  tavily_search_results_json (call_mgrq)\n",
      " Call ID: call_mgrq\n",
      "  Args:\n",
      "    query: Remember my name\n",
      "=================================\u001b[1m Tool Message \u001b[0m=================================\n",
      "Name: tavily_search_results_json\n",
      "\n",
      "[{\"url\": \"https://en.wikipedia.org/wiki/Remember_My_Name_(film)\", \"content\": \"Remember My Name is a 1978 American black comedy-drama thriller written and directed by Alan Rudolph. It stars Geraldine Chaplin, Anthony Perkins, ...\"}, {\"url\": \"https://www.youtube.com/watch?v=LvQIZ1IqyFc\", \"content\": \"Jun 17, 2023 · Remember My Name” from the album Be the Cowboy by Mitski. Listen to Be the Cowboy: https ...Duration: 2:16Posted: Jun 17, 2023\"}]\n",
      "==================================\u001b[1m Ai Message \u001b[0m==================================\n",
      "Tool Calls:\n",
      "  tavily_search_results_json (call_5weg)\n",
      " Call ID: call_5weg\n",
      "  Args:\n",
      "    query: what is the name of the movie Remember My Name\n",
      "=================================\u001b[1m Tool Message \u001b[0m=================================\n",
      "Name: tavily_search_results_json\n",
      "\n",
      "[{\"url\": \"https://thenewbev.com/blog/2022/06/remember-my-name/\", \"content\": \"Jun 11, 2022 · Remember My Name was a film born from an artist who, in the nascent stage of his career, spent significant time presenting a selective memory.\"}, {\"url\": \"https://lecinemadreams.blogspot.com/2017/06/remember-my-name-1978.html\", \"content\": \"Jun 9, 2017 · Remember My Name - 1978. Geraldine Chaplin, Anthony Perkins, and Berry Berenson in Alan Rudolph's neo-noir tale of revenge.\"}]\n",
      "==================================\u001b[1m Ai Message \u001b[0m==================================\n",
      "\n",
      "The name of the film is Remember My Name.\n"
     ]
    }
   ],
   "source": [
    "# The only difference is we change the `thread_id` here to \"2\" instead of \"1\"\n",
    "events = graph.stream(\n",
    "    {\"messages\": [(\"user\", user_input)]},\n",
    "    {\"configurable\": {\"thread_id\": \"2\"}},\n",
    "    stream_mode=\"values\",\n",
    ")\n",
    "for event in events:\n",
    "    event[\"messages\"][-1].pretty_print()"
   ]
  },
  {
   "cell_type": "markdown",
   "metadata": {},
   "source": [
    "By now, we have made a few checkpoints across two different threads. But what goes into a checkpoint? To inspect a graph's `state` for a given config at any time, call `get_state(config)`."
   ]
  },
  {
   "cell_type": "code",
   "execution_count": 44,
   "metadata": {},
   "outputs": [
    {
     "data": {
      "text/plain": [
       "StateSnapshot(values={'messages': [HumanMessage(content='Hi there! My name is Will.', additional_kwargs={}, response_metadata={}, id='642cc6c1-e90d-4db8-8fa1-2681adb420b0'), AIMessage(content='', additional_kwargs={'tool_calls': [{'id': 'call_jper', 'function': {'arguments': '{\"query\":\"What is Will\\'s name?\"}', 'name': 'tavily_search_results_json'}, 'type': 'function'}]}, response_metadata={'token_usage': {'completion_tokens': 91, 'prompt_tokens': 989, 'total_tokens': 1080, 'completion_time': 0.165454545, 'prompt_time': 0.031913168, 'queue_time': 0.0030876650000000033, 'total_time': 0.197367713}, 'model_name': 'gemma2-9b-it', 'system_fingerprint': 'fp_10c08bf97d', 'finish_reason': 'tool_calls', 'logprobs': None}, id='run-d0e34a4b-e48d-40d4-9c5b-937c1c9bc086-0', tool_calls=[{'name': 'tavily_search_results_json', 'args': {'query': \"What is Will's name?\"}, 'id': 'call_jper', 'type': 'tool_call'}], usage_metadata={'input_tokens': 989, 'output_tokens': 91, 'total_tokens': 1080}), ToolMessage(content='[{\"url\": \"https://en.wikipedia.org/wiki/Will_(given_name)\", \"content\": \"Will [wil] or Wil is a given name, often a short form (hypocorism) of William, Wilson, Wilfred, Wilbur, Wilhelmina, Wilma, Willard or Willeke.\"}, {\"url\": \"https://www.thebump.com/b/wills-baby-name\", \"content\": \"Sep 27, 2024 · It has the hefty meaning of \\\\\"helmet of protection\\\\\" or \\\\\"resolute protector.\\\\\" With Wills as their name, baby will exude a calm and comforting\\xa0...\"}]', name='tavily_search_results_json', id='0d787d6a-3773-4f4e-b397-cb95c9de1097', tool_call_id='call_jper', artifact={'query': \"What is Will's name?\", 'follow_up_questions': None, 'answer': None, 'images': [], 'results': [{'url': 'https://en.wikipedia.org/wiki/Will_(given_name)', 'title': 'Will (given name) - Wikipedia', 'content': 'Will [wil] or Wil is a given name, often a short form (hypocorism) of William, Wilson, Wilfred, Wilbur, Wilhelmina, Wilma, Willard or Willeke.', 'score': 0.96472245, 'raw_content': None}, {'url': 'https://www.thebump.com/b/wills-baby-name', 'title': 'Wills - Baby Name Meaning, Origin and Popularity - The Bump', 'content': 'Sep 27, 2024 · It has the hefty meaning of \"helmet of protection\" or \"resolute protector.\" With Wills as their name, baby will exude a calm and comforting\\xa0...', 'score': 0.9599126, 'raw_content': None}], 'response_time': 3.99}), AIMessage(content='', additional_kwargs={'tool_calls': [{'id': 'call_3911', 'function': {'arguments': '{\"query\":\"What is a hypocorism?\"}', 'name': 'tavily_search_results_json'}, 'type': 'function'}]}, response_metadata={'token_usage': {'completion_tokens': 52, 'prompt_tokens': 1204, 'total_tokens': 1256, 'completion_time': 0.094545455, 'prompt_time': 0.049773018, 'queue_time': 0.0028356079999999964, 'total_time': 0.144318473}, 'model_name': 'gemma2-9b-it', 'system_fingerprint': 'fp_10c08bf97d', 'finish_reason': 'tool_calls', 'logprobs': None}, id='run-95b21893-e719-463d-8611-9e0cf57aa6df-0', tool_calls=[{'name': 'tavily_search_results_json', 'args': {'query': 'What is a hypocorism?'}, 'id': 'call_3911', 'type': 'tool_call'}], usage_metadata={'input_tokens': 1204, 'output_tokens': 52, 'total_tokens': 1256}), ToolMessage(content='[{\"url\": \"https://www.languagehumanities.org/what-is-a-hypocorism.htm\", \"content\": \"A hypocorism is an altered, usually shortened version of a word or name that is usually used in informal or familiar situations. Nicknames, pet names, and terms of endearment, such as those used among friends, family members, or lovers, are often hypocorisms. The most conspicuous hypocoristic forms are derived from people\\'s given names, but ...\"}, {\"url\": \"https://en.wikipedia.org/wiki/Hypocorism\", \"content\": \"A hypocorism (/ haɪˈpɒkərɪzəm / hy-POK-ər-iz-əm or / ˌhaɪpəˈkɒrɪzəm / HY-pə-KORR-iz-əm; from Ancient Greek ὑποκόρισμα hypokórisma; sometimes also hypocoristic), or pet name, is a name used to show affection for a person. [1][2] It may be a diminutive form of a person\\'s name, such as Izzy for Isabel or Bob for Robert ...\"}]', name='tavily_search_results_json', id='2e9ab19e-8473-48d5-bb09-e68e7797ff6e', tool_call_id='call_3911', artifact={'query': 'What is a hypocorism?', 'follow_up_questions': None, 'answer': None, 'images': [], 'results': [{'title': 'What Is a Hypocorism? (with pictures) - Language Humanities', 'url': 'https://www.languagehumanities.org/what-is-a-hypocorism.htm', 'content': \"A hypocorism is an altered, usually shortened version of a word or name that is usually used in informal or familiar situations. Nicknames, pet names, and terms of endearment, such as those used among friends, family members, or lovers, are often hypocorisms. The most conspicuous hypocoristic forms are derived from people's given names, but ...\", 'score': 0.9995609, 'raw_content': None}, {'title': 'Hypocorism - Wikipedia', 'url': 'https://en.wikipedia.org/wiki/Hypocorism', 'content': \"A hypocorism (/ haɪˈpɒkərɪzəm / hy-POK-ər-iz-əm or / ˌhaɪpəˈkɒrɪzəm / HY-pə-KORR-iz-əm; from Ancient Greek ὑποκόρισμα hypokórisma; sometimes also hypocoristic), or pet name, is a name used to show affection for a person. [1][2] It may be a diminutive form of a person's name, such as Izzy for Isabel or Bob for Robert ...\", 'score': 0.99924755, 'raw_content': None}], 'response_time': 2.0}), AIMessage(content='Will is a short form of the name William. \\n', additional_kwargs={}, response_metadata={'token_usage': {'completion_tokens': 14, 'prompt_tokens': 1534, 'total_tokens': 1548, 'completion_time': 0.025454545, 'prompt_time': 0.04964918, 'queue_time': 0.002876875000000001, 'total_time': 0.075103725}, 'model_name': 'gemma2-9b-it', 'system_fingerprint': 'fp_10c08bf97d', 'finish_reason': 'stop', 'logprobs': None}, id='run-7d07e4c4-10d4-4d09-852b-143c125cd286-0', usage_metadata={'input_tokens': 1534, 'output_tokens': 14, 'total_tokens': 1548}), HumanMessage(content='Remember my name?', additional_kwargs={}, response_metadata={}, id='b548b9c9-ff14-46fa-ac43-33ad4cc8be57'), AIMessage(content='Yes, your name is Will.', additional_kwargs={}, response_metadata={'token_usage': {'completion_tokens': 9, 'prompt_tokens': 1560, 'total_tokens': 1569, 'completion_time': 0.016363636, 'prompt_time': 0.064272363, 'queue_time': 0.0029664989999999974, 'total_time': 0.080635999}, 'model_name': 'gemma2-9b-it', 'system_fingerprint': 'fp_10c08bf97d', 'finish_reason': 'stop', 'logprobs': None}, id='run-50347e31-b293-4edd-8849-fd5e4687a953-0', usage_metadata={'input_tokens': 1560, 'output_tokens': 9, 'total_tokens': 1569})]}, next=(), config={'configurable': {'thread_id': '1', 'checkpoint_ns': '', 'checkpoint_id': '1ef83452-e640-6d7e-8008-a0d793f544cb'}}, metadata={'source': 'loop', 'writes': {'chatbot': {'messages': [AIMessage(content='Yes, your name is Will.', additional_kwargs={}, response_metadata={'token_usage': {'completion_tokens': 9, 'prompt_tokens': 1560, 'total_tokens': 1569, 'completion_time': 0.016363636, 'prompt_time': 0.064272363, 'queue_time': 0.0029664989999999974, 'total_time': 0.080635999}, 'model_name': 'gemma2-9b-it', 'system_fingerprint': 'fp_10c08bf97d', 'finish_reason': 'stop', 'logprobs': None}, id='run-50347e31-b293-4edd-8849-fd5e4687a953-0', usage_metadata={'input_tokens': 1560, 'output_tokens': 9, 'total_tokens': 1569})]}}, 'step': 8, 'parents': {}}, created_at='2024-10-05T18:11:02.606564+00:00', parent_config={'configurable': {'thread_id': '1', 'checkpoint_ns': '', 'checkpoint_id': '1ef83452-e3d1-6070-8007-09c818da9f34'}}, tasks=())"
      ]
     },
     "execution_count": 44,
     "metadata": {},
     "output_type": "execute_result"
    }
   ],
   "source": [
    "snapshot = graph.get_state(config)\n",
    "snapshot"
   ]
  },
  {
   "cell_type": "code",
   "execution_count": 45,
   "metadata": {},
   "outputs": [
    {
     "data": {
      "text/plain": [
       "()"
      ]
     },
     "execution_count": 45,
     "metadata": {},
     "output_type": "execute_result"
    }
   ],
   "source": [
    "snapshot.next  # (since the graph ended this turn, `next` is empty. If you fetch a state from within a graph invocation, next tells which node will execute next)"
   ]
  },
  {
   "cell_type": "markdown",
   "metadata": {},
   "source": [
    "The snapshot above contains the current state values, corresponding config, and the `next` node to process. In our case, the graph has reached an `END` state, so `next` is empty.\n",
    "\n",
    "Your chatbot can now maintain conversation state across sessions thanks to LangGraph's checkpointing system. This opens up exciting possibilities for more natural, contextual interactions. LangGraph's checkpointing even handles **arbitrarily complex graph states**, which is much more expressive and powerful than simple chat memory."
   ]
  }
 ],
 "metadata": {
  "kernelspec": {
   "display_name": ".venv",
   "language": "python",
   "name": "python3"
  },
  "language_info": {
   "codemirror_mode": {
    "name": "ipython",
    "version": 3
   },
   "file_extension": ".py",
   "mimetype": "text/x-python",
   "name": "python",
   "nbconvert_exporter": "python",
   "pygments_lexer": "ipython3",
   "version": "3.11.10"
  }
 },
 "nbformat": 4,
 "nbformat_minor": 2
}
